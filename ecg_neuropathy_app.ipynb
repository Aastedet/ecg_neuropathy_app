{
  "nbformat": 4,
  "nbformat_minor": 0,
  "metadata": {
    "colab": {
      "name": "ecg_neuropathy_app.ipynb",
      "provenance": [],
      "authorship_tag": "ABX9TyN8R+5JDHZIm3DxcZNUuGrS",
      "include_colab_link": true
    },
    "kernelspec": {
      "name": "python3",
      "display_name": "Python 3"
    },
    "language_info": {
      "name": "python"
    },
    "widgets": {
      "application/vnd.jupyter.widget-state+json": {
        "9193edf575db4f4d91c2469f5ec90b5c": {
          "model_module": "@jupyter-widgets/controls",
          "model_name": "VBoxModel",
          "model_module_version": "1.5.0",
          "state": {
            "_dom_classes": [],
            "_model_module": "@jupyter-widgets/controls",
            "_model_module_version": "1.5.0",
            "_model_name": "VBoxModel",
            "_view_count": null,
            "_view_module": "@jupyter-widgets/controls",
            "_view_module_version": "1.5.0",
            "_view_name": "VBoxView",
            "box_style": "",
            "children": [
              "IPY_MODEL_6a119be8790b432baa5456d06295c3fc",
              "IPY_MODEL_6250b63c9160481991397afb62c5d7dd",
              "IPY_MODEL_776b4264ec264d30bf80bc054c8b7ede",
              "IPY_MODEL_58d53c9754d64c1ba563720e4bf00b74"
            ],
            "layout": "IPY_MODEL_dbc85fac29114309805518fa21d31532"
          }
        },
        "6a119be8790b432baa5456d06295c3fc": {
          "model_module": "@jupyter-widgets/controls",
          "model_name": "LabelModel",
          "model_module_version": "1.5.0",
          "state": {
            "_dom_classes": [],
            "_model_module": "@jupyter-widgets/controls",
            "_model_module_version": "1.5.0",
            "_model_name": "LabelModel",
            "_view_count": null,
            "_view_module": "@jupyter-widgets/controls",
            "_view_module_version": "1.5.0",
            "_view_name": "LabelView",
            "description": "",
            "description_tooltip": null,
            "layout": "IPY_MODEL_d336b3eb080f4bedaac6a6e7512fca77",
            "placeholder": "​",
            "style": "IPY_MODEL_16479c2b540a4fd39d213b16cd6848da",
            "value": "Please take a photo of one precordial lead in the ECG of your patient to infer neuropathy risk:"
          }
        },
        "6250b63c9160481991397afb62c5d7dd": {
          "model_module": "@jupyter-widgets/controls",
          "model_name": "FileUploadModel",
          "model_module_version": "1.5.0",
          "state": {
            "_counter": 1,
            "_dom_classes": [],
            "_model_module": "@jupyter-widgets/controls",
            "_model_module_version": "1.5.0",
            "_model_name": "FileUploadModel",
            "_view_count": null,
            "_view_module": "@jupyter-widgets/controls",
            "_view_module_version": "1.5.0",
            "_view_name": "FileUploadView",
            "accept": "",
            "button_style": "",
            "data": [
              null
            ],
            "description": "Upload",
            "description_tooltip": null,
            "disabled": false,
            "error": "",
            "icon": "upload",
            "layout": "IPY_MODEL_a1f3ba0a6d074ebaaf0c3a287bf105d8",
            "metadata": [
              {
                "name": "S0250ECG_signal1_7.png",
                "type": "image/png",
                "size": 50407,
                "lastModified": 1653179389475
              }
            ],
            "multiple": false,
            "style": "IPY_MODEL_c27e3e8618ed44b8a364d6fbef62cc95"
          }
        },
        "776b4264ec264d30bf80bc054c8b7ede": {
          "model_module": "@jupyter-widgets/output",
          "model_name": "OutputModel",
          "model_module_version": "1.0.0",
          "state": {
            "_dom_classes": [],
            "_model_module": "@jupyter-widgets/output",
            "_model_module_version": "1.0.0",
            "_model_name": "OutputModel",
            "_view_count": null,
            "_view_module": "@jupyter-widgets/output",
            "_view_module_version": "1.0.0",
            "_view_name": "OutputView",
            "layout": "IPY_MODEL_fb7cdd5179b2482fabca162574e3635d",
            "msg_id": "",
            "outputs": [
              {
                "output_type": "display_data",
                "data": {
                  "text/plain": "<PIL.Image.Image image mode=RGB size=128x24 at 0x7FF330D76410>",
                  "image/png": "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\n"
                },
                "metadata": {}
              }
            ]
          }
        },
        "58d53c9754d64c1ba563720e4bf00b74": {
          "model_module": "@jupyter-widgets/controls",
          "model_name": "LabelModel",
          "model_module_version": "1.5.0",
          "state": {
            "_dom_classes": [],
            "_model_module": "@jupyter-widgets/controls",
            "_model_module_version": "1.5.0",
            "_model_name": "LabelModel",
            "_view_count": null,
            "_view_module": "@jupyter-widgets/controls",
            "_view_module_version": "1.5.0",
            "_view_name": "LabelView",
            "description": "",
            "description_tooltip": null,
            "layout": "IPY_MODEL_c817946923eb49bb8913efc17d96c860",
            "placeholder": "​",
            "style": "IPY_MODEL_98d76ce3346f4763ac06b1ac60a9e602",
            "value": "Prediction: healthy; Probability: 0.7951"
          }
        },
        "dbc85fac29114309805518fa21d31532": {
          "model_module": "@jupyter-widgets/base",
          "model_name": "LayoutModel",
          "model_module_version": "1.2.0",
          "state": {
            "_model_module": "@jupyter-widgets/base",
            "_model_module_version": "1.2.0",
            "_model_name": "LayoutModel",
            "_view_count": null,
            "_view_module": "@jupyter-widgets/base",
            "_view_module_version": "1.2.0",
            "_view_name": "LayoutView",
            "align_content": null,
            "align_items": null,
            "align_self": null,
            "border": null,
            "bottom": null,
            "display": null,
            "flex": null,
            "flex_flow": null,
            "grid_area": null,
            "grid_auto_columns": null,
            "grid_auto_flow": null,
            "grid_auto_rows": null,
            "grid_column": null,
            "grid_gap": null,
            "grid_row": null,
            "grid_template_areas": null,
            "grid_template_columns": null,
            "grid_template_rows": null,
            "height": null,
            "justify_content": null,
            "justify_items": null,
            "left": null,
            "margin": null,
            "max_height": null,
            "max_width": null,
            "min_height": null,
            "min_width": null,
            "object_fit": null,
            "object_position": null,
            "order": null,
            "overflow": null,
            "overflow_x": null,
            "overflow_y": null,
            "padding": null,
            "right": null,
            "top": null,
            "visibility": null,
            "width": null
          }
        },
        "d336b3eb080f4bedaac6a6e7512fca77": {
          "model_module": "@jupyter-widgets/base",
          "model_name": "LayoutModel",
          "model_module_version": "1.2.0",
          "state": {
            "_model_module": "@jupyter-widgets/base",
            "_model_module_version": "1.2.0",
            "_model_name": "LayoutModel",
            "_view_count": null,
            "_view_module": "@jupyter-widgets/base",
            "_view_module_version": "1.2.0",
            "_view_name": "LayoutView",
            "align_content": null,
            "align_items": null,
            "align_self": null,
            "border": null,
            "bottom": null,
            "display": null,
            "flex": null,
            "flex_flow": null,
            "grid_area": null,
            "grid_auto_columns": null,
            "grid_auto_flow": null,
            "grid_auto_rows": null,
            "grid_column": null,
            "grid_gap": null,
            "grid_row": null,
            "grid_template_areas": null,
            "grid_template_columns": null,
            "grid_template_rows": null,
            "height": null,
            "justify_content": null,
            "justify_items": null,
            "left": null,
            "margin": null,
            "max_height": null,
            "max_width": null,
            "min_height": null,
            "min_width": null,
            "object_fit": null,
            "object_position": null,
            "order": null,
            "overflow": null,
            "overflow_x": null,
            "overflow_y": null,
            "padding": null,
            "right": null,
            "top": null,
            "visibility": null,
            "width": null
          }
        },
        "16479c2b540a4fd39d213b16cd6848da": {
          "model_module": "@jupyter-widgets/controls",
          "model_name": "DescriptionStyleModel",
          "model_module_version": "1.5.0",
          "state": {
            "_model_module": "@jupyter-widgets/controls",
            "_model_module_version": "1.5.0",
            "_model_name": "DescriptionStyleModel",
            "_view_count": null,
            "_view_module": "@jupyter-widgets/base",
            "_view_module_version": "1.2.0",
            "_view_name": "StyleView",
            "description_width": ""
          }
        },
        "a1f3ba0a6d074ebaaf0c3a287bf105d8": {
          "model_module": "@jupyter-widgets/base",
          "model_name": "LayoutModel",
          "model_module_version": "1.2.0",
          "state": {
            "_model_module": "@jupyter-widgets/base",
            "_model_module_version": "1.2.0",
            "_model_name": "LayoutModel",
            "_view_count": null,
            "_view_module": "@jupyter-widgets/base",
            "_view_module_version": "1.2.0",
            "_view_name": "LayoutView",
            "align_content": null,
            "align_items": null,
            "align_self": null,
            "border": null,
            "bottom": null,
            "display": null,
            "flex": null,
            "flex_flow": null,
            "grid_area": null,
            "grid_auto_columns": null,
            "grid_auto_flow": null,
            "grid_auto_rows": null,
            "grid_column": null,
            "grid_gap": null,
            "grid_row": null,
            "grid_template_areas": null,
            "grid_template_columns": null,
            "grid_template_rows": null,
            "height": null,
            "justify_content": null,
            "justify_items": null,
            "left": null,
            "margin": null,
            "max_height": null,
            "max_width": null,
            "min_height": null,
            "min_width": null,
            "object_fit": null,
            "object_position": null,
            "order": null,
            "overflow": null,
            "overflow_x": null,
            "overflow_y": null,
            "padding": null,
            "right": null,
            "top": null,
            "visibility": null,
            "width": null
          }
        },
        "c27e3e8618ed44b8a364d6fbef62cc95": {
          "model_module": "@jupyter-widgets/controls",
          "model_name": "ButtonStyleModel",
          "model_module_version": "1.5.0",
          "state": {
            "_model_module": "@jupyter-widgets/controls",
            "_model_module_version": "1.5.0",
            "_model_name": "ButtonStyleModel",
            "_view_count": null,
            "_view_module": "@jupyter-widgets/base",
            "_view_module_version": "1.2.0",
            "_view_name": "StyleView",
            "button_color": null,
            "font_weight": ""
          }
        },
        "c817946923eb49bb8913efc17d96c860": {
          "model_module": "@jupyter-widgets/base",
          "model_name": "LayoutModel",
          "model_module_version": "1.2.0",
          "state": {
            "_model_module": "@jupyter-widgets/base",
            "_model_module_version": "1.2.0",
            "_model_name": "LayoutModel",
            "_view_count": null,
            "_view_module": "@jupyter-widgets/base",
            "_view_module_version": "1.2.0",
            "_view_name": "LayoutView",
            "align_content": null,
            "align_items": null,
            "align_self": null,
            "border": null,
            "bottom": null,
            "display": null,
            "flex": null,
            "flex_flow": null,
            "grid_area": null,
            "grid_auto_columns": null,
            "grid_auto_flow": null,
            "grid_auto_rows": null,
            "grid_column": null,
            "grid_gap": null,
            "grid_row": null,
            "grid_template_areas": null,
            "grid_template_columns": null,
            "grid_template_rows": null,
            "height": null,
            "justify_content": null,
            "justify_items": null,
            "left": null,
            "margin": null,
            "max_height": null,
            "max_width": null,
            "min_height": null,
            "min_width": null,
            "object_fit": null,
            "object_position": null,
            "order": null,
            "overflow": null,
            "overflow_x": null,
            "overflow_y": null,
            "padding": null,
            "right": null,
            "top": null,
            "visibility": null,
            "width": null
          }
        },
        "98d76ce3346f4763ac06b1ac60a9e602": {
          "model_module": "@jupyter-widgets/controls",
          "model_name": "DescriptionStyleModel",
          "model_module_version": "1.5.0",
          "state": {
            "_model_module": "@jupyter-widgets/controls",
            "_model_module_version": "1.5.0",
            "_model_name": "DescriptionStyleModel",
            "_view_count": null,
            "_view_module": "@jupyter-widgets/base",
            "_view_module_version": "1.2.0",
            "_view_name": "StyleView",
            "description_width": ""
          }
        },
        "fb7cdd5179b2482fabca162574e3635d": {
          "model_module": "@jupyter-widgets/base",
          "model_name": "LayoutModel",
          "model_module_version": "1.2.0",
          "state": {
            "_model_module": "@jupyter-widgets/base",
            "_model_module_version": "1.2.0",
            "_model_name": "LayoutModel",
            "_view_count": null,
            "_view_module": "@jupyter-widgets/base",
            "_view_module_version": "1.2.0",
            "_view_name": "LayoutView",
            "align_content": null,
            "align_items": null,
            "align_self": null,
            "border": null,
            "bottom": null,
            "display": null,
            "flex": null,
            "flex_flow": null,
            "grid_area": null,
            "grid_auto_columns": null,
            "grid_auto_flow": null,
            "grid_auto_rows": null,
            "grid_column": null,
            "grid_gap": null,
            "grid_row": null,
            "grid_template_areas": null,
            "grid_template_columns": null,
            "grid_template_rows": null,
            "height": null,
            "justify_content": null,
            "justify_items": null,
            "left": null,
            "margin": null,
            "max_height": null,
            "max_width": null,
            "min_height": null,
            "min_width": null,
            "object_fit": null,
            "object_position": null,
            "order": null,
            "overflow": null,
            "overflow_x": null,
            "overflow_y": null,
            "padding": null,
            "right": null,
            "top": null,
            "visibility": null,
            "width": null
          }
        }
      }
    }
  },
  "cells": [
    {
      "cell_type": "markdown",
      "metadata": {
        "id": "view-in-github",
        "colab_type": "text"
      },
      "source": [
        "<a href=\"https://colab.research.google.com/github/Aastedet/ecg_neuropathy_app/blob/main/ecg_neuropathy_app.ipynb\" target=\"_parent\"><img src=\"https://colab.research.google.com/assets/colab-badge.svg\" alt=\"Open In Colab\"/></a>"
      ]
    },
    {
      "cell_type": "markdown",
      "source": [
        "# ARE YOU TIRED OF SPENDING ALL YOUR TIME DOING NEUROPATHY EXAMINATIONS WHEN YOU COULD BE PLAYING GOLF?\n",
        "# THEN YOU HAVE COME TO THE RIGHT PLACE!\n",
        "Welcome to the best in clinical decision support for the ~~lazy~~/~~unsafe~~/busy diabetologist: \n",
        "\n",
        "Simply take a photo of one of the leads in your diabetes patient's ECG, and the power of MACHINE LEARNING, AI, COMPUTER VISION and BIG DATA will tell you if your patient has diabetic neuropathy!\n",
        "\n",
        "(preferable a photo of V1, V2, V5 or V6, as that's all this tool knows!)\n",
        "\n",
        "(a coin toss may be just as good a predictor)"
      ],
      "metadata": {
        "id": "B_0BLi6KDomq"
      }
    },
    {
      "cell_type": "code",
      "execution_count": 1,
      "metadata": {
        "colab": {
          "base_uri": "https://localhost:8080/"
        },
        "id": "MMj41BHv8pMi",
        "outputId": "0fad14e9-8121-463c-819d-c04e3e9c74a2"
      },
      "outputs": [
        {
          "output_type": "stream",
          "name": "stdout",
          "text": [
            "Mounted at /content/gdrive\n"
          ]
        }
      ],
      "source": [
        "from fastai.vision.all import *\n",
        "from fastai.vision.widgets import *"
      ]
    },
    {
      "cell_type": "code",
      "source": [
        "drive.mount('/content/ecg_data')"
      ],
      "metadata": {
        "colab": {
          "base_uri": "https://localhost:8080/"
        },
        "id": "IssLnh_N_1CR",
        "outputId": "d3a14e96-8b9a-46c5-fff6-a72c2f6a16f6"
      },
      "execution_count": 3,
      "outputs": [
        {
          "output_type": "stream",
          "name": "stdout",
          "text": [
            "Mounted at /content/ecg_data\n"
          ]
        }
      ]
    },
    {
      "cell_type": "code",
      "source": [
        "path = Path('/content/ecg_data/MyDrive/ecg_ai/')\n",
        "learn_inf = load_learner(path/'learn_resnet_randomsplit_5.pkl', cpu=True)\n",
        "btn_upload = widgets.FileUpload()\n",
        "out_pl = widgets.Output()\n",
        "lbl_pred = widgets.Label()"
      ],
      "metadata": {
        "id": "-korA6j99RXv"
      },
      "execution_count": 14,
      "outputs": []
    },
    {
      "cell_type": "code",
      "source": [
        "def on_data_change(change):\n",
        "    lbl_pred.value = ''\n",
        "    img = PILImage.create(btn_upload.data[-1])\n",
        "    out_pl.clear_output()\n",
        "    with out_pl: display(img.to_thumb(128,128))\n",
        "    pred,pred_idx,probs = learn_inf.predict(img)\n",
        "    lbl_pred.value = f'Prediction: {pred}; Probability: {probs[pred_idx]:.04f}'"
      ],
      "metadata": {
        "id": "mXl5S9Qg9U_u"
      },
      "execution_count": 15,
      "outputs": []
    },
    {
      "cell_type": "code",
      "source": [
        "btn_upload.observe(on_data_change, names=['data'])"
      ],
      "metadata": {
        "id": "RyzZhTag9XdV"
      },
      "execution_count": 16,
      "outputs": []
    },
    {
      "cell_type": "code",
      "source": [
        "display(VBox([widgets.Label('Please take a photo of a lead in the ECG of your patient to infer neuropathy risk:'), btn_upload, out_pl, lbl_pred]))"
      ],
      "metadata": {
        "colab": {
          "base_uri": "https://localhost:8080/",
          "height": 137,
          "referenced_widgets": [
            "9193edf575db4f4d91c2469f5ec90b5c",
            "6a119be8790b432baa5456d06295c3fc",
            "6250b63c9160481991397afb62c5d7dd",
            "776b4264ec264d30bf80bc054c8b7ede",
            "58d53c9754d64c1ba563720e4bf00b74",
            "dbc85fac29114309805518fa21d31532",
            "d336b3eb080f4bedaac6a6e7512fca77",
            "16479c2b540a4fd39d213b16cd6848da",
            "a1f3ba0a6d074ebaaf0c3a287bf105d8",
            "c27e3e8618ed44b8a364d6fbef62cc95",
            "c817946923eb49bb8913efc17d96c860",
            "98d76ce3346f4763ac06b1ac60a9e602",
            "fb7cdd5179b2482fabca162574e3635d"
          ]
        },
        "id": "GZoNeiIS9Z1-",
        "outputId": "d0c21ed7-b5ad-4653-a138-d3efc89b9c32"
      },
      "execution_count": 21,
      "outputs": [
        {
          "output_type": "display_data",
          "data": {
            "text/plain": [
              "VBox(children=(Label(value='Please take a photo of one precordial lead in the ECG of your patient to infer neu…"
            ],
            "application/vnd.jupyter.widget-view+json": {
              "version_major": 2,
              "version_minor": 0,
              "model_id": "9193edf575db4f4d91c2469f5ec90b5c"
            }
          },
          "metadata": {}
        }
      ]
    }
  ]
}